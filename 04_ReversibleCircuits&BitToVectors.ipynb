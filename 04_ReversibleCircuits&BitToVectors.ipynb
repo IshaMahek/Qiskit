{
 "cells": [
  {
   "cell_type": "markdown",
   "id": "22df6998-acf1-41d0-b7ae-91fcb86fa21c",
   "metadata": {},
   "source": [
    "# Reversible Circuits"
   ]
  },
  {
   "cell_type": "markdown",
   "id": "7c535182-11c4-4fd9-ad39-6544d81be258",
   "metadata": {},
   "source": [
    "### XOR GATE: \n",
    "> NOT Gate aka X Gate (in QC).\n",
    "\n",
    "> To make XOR Gate reversible, we can add redundancy, ie, adding an additional output that matches one of the inputs.\n",
    "\n",
    ">Reversible XOR Gate is implemented using controlled X Gate (CNOT Gate).\n",
    "\n",
    ">It has two inputs a and b, in which X Gate is applied to *bit b* and condition it on the value of *bit a*.\n",
    "\n",
    ">Here, if a = 1, we apply X Gate to b.\n",
    "> But, if a = 0, then we don't and b is passed unchanged."
   ]
  },
  {
   "cell_type": "markdown",
   "id": "bb4380a2-6832-4c43-bb67-5a204fea37bb",
   "metadata": {
    "jp-MarkdownHeadingCollapsed": true
   },
   "source": [
    "### AND GATE:\n",
    "\n",
    "> Reversible AND Gate is implemented using Controlled Controlled NOT Gate aka Controlled Controlled X Gate aka Toffoli gate (CCNOT Gate).\n"
   ]
  },
  {
   "cell_type": "markdown",
   "id": "fab4631a-3d08-4739-84f6-165eb9a90969",
   "metadata": {},
   "source": [
    "# Bits to Vectors"
   ]
  },
  {
   "cell_type": "markdown",
   "id": "723f7666-3b52-47b6-8da9-212975292a1a",
   "metadata": {},
   "source": [
    "$$\n",
    "|b\\rangle = \n",
    "\\begin{bmatrix}\n",
    "\\beta_0 \\\\\n",
    "\\beta_1\n",
    "\\end{bmatrix}, \\quad \n",
    "\\beta_i \\in \\{0, 1\\}, \\quad \\text{and} \\quad \\|b\\| = \\sqrt{\\beta_0^2 + \\beta_1^2} = 1\n",
    "$$"
   ]
  },
  {
   "cell_type": "markdown",
   "id": "5e93110d-b05c-4083-a3c7-bf80f6db069c",
   "metadata": {},
   "source": [
    "Dot product is used to measure how similar the vectors are to each other."
   ]
  },
  {
   "cell_type": "markdown",
   "id": "98ec00cf-e8c5-4a63-835d-d32bb0d7695b",
   "metadata": {},
   "source": [
    "## Bra and Ket\n",
    ">Ket: \n",
    "∣\n",
    "𝜓\n",
    "⟩\n",
    "\n",
    "∣ψ⟩ — column vector, used to describe quantum states\n",
    "\n",
    ">Bra:\n",
    "⟨\n",
    "𝜓\n",
    "∣\n",
    "\n",
    "⟨ψ∣ — row vector (complex conjugate transpose of ket), used in inner products"
   ]
  },
  {
   "cell_type": "code",
   "execution_count": 2,
   "id": "0df7d180-e181-4d08-b358-ef2eb5307d61",
   "metadata": {},
   "outputs": [],
   "source": [
    "import numpy as np\n",
    "import sympy as sp"
   ]
  },
  {
   "cell_type": "code",
   "execution_count": 3,
   "id": "20ab21a1-024f-46d6-a9d5-e967a4bb8bb4",
   "metadata": {},
   "outputs": [
    {
     "name": "stdout",
     "output_type": "stream",
     "text": [
      "[[1]\n",
      " [0]]\n"
     ]
    }
   ],
   "source": [
    "ket_0 = np.array([[1],\n",
    "                  [0]])\n",
    "print(ket_0)"
   ]
  },
  {
   "cell_type": "code",
   "execution_count": 4,
   "id": "3837dca1-1d76-4fe3-8965-3fd2e509c535",
   "metadata": {},
   "outputs": [
    {
     "data": {
      "text/latex": [
       "$\\displaystyle \\left[\\begin{matrix}1\\\\0\\end{matrix}\\right]$"
      ],
      "text/plain": [
       "Matrix([\n",
       "[1],\n",
       "[0]])"
      ]
     },
     "execution_count": 4,
     "metadata": {},
     "output_type": "execute_result"
    }
   ],
   "source": [
    "sp.Matrix(ket_0)"
   ]
  },
  {
   "cell_type": "code",
   "execution_count": 5,
   "id": "e41dcc1a-331c-4497-80e4-8da6dfca538e",
   "metadata": {},
   "outputs": [
    {
     "data": {
      "text/latex": [
       "$\\displaystyle \\left[\\begin{matrix}0\\\\1\\end{matrix}\\right]$"
      ],
      "text/plain": [
       "Matrix([\n",
       "[0],\n",
       "[1]])"
      ]
     },
     "execution_count": 5,
     "metadata": {},
     "output_type": "execute_result"
    }
   ],
   "source": [
    "ket_1 = np.array([[0],\n",
    "                  [1]])\n",
    "sp.Matrix(ket_1)"
   ]
  },
  {
   "cell_type": "code",
   "execution_count": 14,
   "id": "512ec31e-bc20-4dfb-9d80-c51e440083e6",
   "metadata": {},
   "outputs": [
    {
     "name": "stdout",
     "output_type": "stream",
     "text": [
      "1.0\n"
     ]
    }
   ],
   "source": [
    "x = np.sqrt(np.sum(ket_0**2))\n",
    "print(x)"
   ]
  },
  {
   "cell_type": "code",
   "execution_count": 15,
   "id": "fa7c4e4a-03dd-402e-a60f-cfada8203bd8",
   "metadata": {},
   "outputs": [
    {
     "name": "stdout",
     "output_type": "stream",
     "text": [
      "1.4142135623730951\n"
     ]
    }
   ],
   "source": [
    "ones = np.array([[1],\n",
    "                 [1]])\n",
    "y = np.sqrt(np.sum(ones**2))\n",
    "print(y)"
   ]
  },
  {
   "cell_type": "code",
   "execution_count": 18,
   "id": "69bd61e8-a0a8-4e59-bf38-7350761273af",
   "metadata": {},
   "outputs": [
    {
     "name": "stdout",
     "output_type": "stream",
     "text": [
      "1\n"
     ]
    }
   ],
   "source": [
    "z = np.vdot(ket_0,ket_0)\n",
    "print(z)"
   ]
  },
  {
   "cell_type": "code",
   "execution_count": 21,
   "id": "50431180-cc58-40e3-a26b-30c460ca651f",
   "metadata": {},
   "outputs": [
    {
     "name": "stdout",
     "output_type": "stream",
     "text": [
      "1.4142135623730951\n"
     ]
    }
   ],
   "source": [
    "a = np.sqrt(np.vdot(ones, ones))\n",
    "print(a)"
   ]
  },
  {
   "cell_type": "code",
   "execution_count": 22,
   "id": "b3b1810b-bda8-4099-8d96-f01efb49f6b9",
   "metadata": {},
   "outputs": [
    {
     "name": "stdout",
     "output_type": "stream",
     "text": [
      "0\n"
     ]
    }
   ],
   "source": [
    "z = np.vdot(ket_0,ket_1)\n",
    "print(z)"
   ]
  },
  {
   "cell_type": "code",
   "execution_count": 24,
   "id": "08d242b2-6f2a-4ae0-afa1-e05157bbe279",
   "metadata": {},
   "outputs": [
    {
     "data": {
      "text/latex": [
       "$\\displaystyle \\left[\\begin{matrix}0\\\\0\\\\1\\\\0\\end{matrix}\\right]$"
      ],
      "text/plain": [
       "Matrix([\n",
       "[0],\n",
       "[0],\n",
       "[1],\n",
       "[0]])"
      ]
     },
     "execution_count": 24,
     "metadata": {},
     "output_type": "execute_result"
    }
   ],
   "source": [
    "c = np.kron(ket_1, ket_0)\n",
    "sp.Matrix(c)"
   ]
  },
  {
   "cell_type": "code",
   "execution_count": null,
   "id": "6c8509f6-90f8-4684-957d-85aa1079aa2f",
   "metadata": {},
   "outputs": [],
   "source": []
  }
 ],
 "metadata": {
  "kernelspec": {
   "display_name": "Python (qc)",
   "language": "python",
   "name": "qc"
  },
  "language_info": {
   "codemirror_mode": {
    "name": "ipython",
    "version": 3
   },
   "file_extension": ".py",
   "mimetype": "text/x-python",
   "name": "python",
   "nbconvert_exporter": "python",
   "pygments_lexer": "ipython3",
   "version": "3.13.5"
  }
 },
 "nbformat": 4,
 "nbformat_minor": 5
}
