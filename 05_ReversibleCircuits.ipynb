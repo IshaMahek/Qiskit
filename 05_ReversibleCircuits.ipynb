{
 "cells": [
  {
   "cell_type": "markdown",
   "id": "2e701caa-b37a-4187-b776-b08423f33aa7",
   "metadata": {},
   "source": [
    "# Reversible Circuits"
   ]
  },
  {
   "cell_type": "markdown",
   "id": "f35321d3-20d8-49e0-898c-f9c39a481834",
   "metadata": {},
   "source": [
    "### XOR GATE: \n",
    "> NOT Gate aka X Gate (in QC).\n",
    "\n",
    "> To make XOR Gate reversible, we can add redundancy, ie, adding an additional output that matches one of the inputs.\n",
    "\n",
    ">Reversible XOR Gate is implemented using controlled X Gate (CNOT Gate).\n",
    "\n",
    ">It has two inputs a and b, in which X Gate is applied to *bit b* and condition it on the value of *bit a*.\n",
    "\n",
    ">Here, if a = 1, we apply X Gate to b.\n",
    "> But, if a = 0, then we don't and b is passed unchanged."
   ]
  },
  {
   "cell_type": "markdown",
   "id": "2bcaae0f-b8d8-4b7b-b72b-3d13b25b9eb0",
   "metadata": {},
   "source": [
    "### AND GATE:\n",
    "\n",
    "> Reversible AND Gate is implemented using Controlled Controlled NOT Gate aka Controlled Controlled X Gate (CCX Gate) aka Toffoli gate (CCNOT Gate).\n"
   ]
  },
  {
   "cell_type": "code",
   "execution_count": 2,
   "id": "628c345f-16f2-4791-8f3c-ceac188901bf",
   "metadata": {},
   "outputs": [],
   "source": [
    "import numpy as np\n",
    "import sympy as sp"
   ]
  },
  {
   "cell_type": "markdown",
   "id": "6e00fc29-c7ce-452a-a4a4-9cb29a02bd96",
   "metadata": {},
   "source": [
    "### CCX GATE"
   ]
  },
  {
   "cell_type": "code",
   "execution_count": 12,
   "id": "9d81136f-9d05-4903-a092-a69ee83772a8",
   "metadata": {},
   "outputs": [
    {
     "data": {
      "text/latex": [
       "$\\displaystyle \\left[\\begin{matrix}1 & 0 & 0 & 0 & 0 & 0 & 0 & 0\\\\0 & 1 & 0 & 0 & 0 & 0 & 0 & 0\\\\0 & 0 & 1 & 0 & 0 & 0 & 0 & 0\\\\0 & 0 & 0 & 1 & 0 & 0 & 0 & 0\\\\0 & 0 & 0 & 0 & 1 & 0 & 0 & 0\\\\0 & 0 & 0 & 0 & 0 & 1 & 0 & 0\\\\0 & 0 & 0 & 0 & 0 & 0 & 0 & 1\\\\0 & 0 & 0 & 0 & 0 & 0 & 1 & 0\\end{matrix}\\right]$"
      ],
      "text/plain": [
       "Matrix([\n",
       "[1, 0, 0, 0, 0, 0, 0, 0],\n",
       "[0, 1, 0, 0, 0, 0, 0, 0],\n",
       "[0, 0, 1, 0, 0, 0, 0, 0],\n",
       "[0, 0, 0, 1, 0, 0, 0, 0],\n",
       "[0, 0, 0, 0, 1, 0, 0, 0],\n",
       "[0, 0, 0, 0, 0, 1, 0, 0],\n",
       "[0, 0, 0, 0, 0, 0, 0, 1],\n",
       "[0, 0, 0, 0, 0, 0, 1, 0]])"
      ]
     },
     "execution_count": 12,
     "metadata": {},
     "output_type": "execute_result"
    }
   ],
   "source": [
    "CCX = np.array([[1,0,0,0,0,0,0,0],\n",
    "                [0,1,0,0,0,0,0,0],\n",
    "                [0,0,1,0,0,0,0,0],\n",
    "                [0,0,0,1,0,0,0,0],\n",
    "                [0,0,0,0,1,0,0,0],\n",
    "                [0,0,0,0,0,1,0,0],\n",
    "                [0,0,0,0,0,0,0,1],\n",
    "                [0,0,0,0,0,0,1,0]])\n",
    "sp.Matrix(CCX)"
   ]
  },
  {
   "cell_type": "markdown",
   "id": "a2e05916-99fb-4dee-9e43-77dc1cc65c9f",
   "metadata": {},
   "source": [
    "### Ket Representations"
   ]
  },
  {
   "cell_type": "code",
   "execution_count": 9,
   "id": "1ee286f2-ef9b-4891-9962-e235a18051fd",
   "metadata": {},
   "outputs": [],
   "source": [
    "ket_0 = np.array([[1],\n",
    "                  [0]])\n",
    "ket_1 = np.array([[0],\n",
    "                  [1]])"
   ]
  },
  {
   "cell_type": "code",
   "execution_count": 9,
   "id": "d7ec536e-7836-4b9f-97ab-04c20caab557",
   "metadata": {},
   "outputs": [
    {
     "data": {
      "text/latex": [
       "$\\displaystyle \\left[\\begin{matrix}1\\\\0\\\\0\\\\0\\\\0\\\\0\\\\0\\\\0\\end{matrix}\\right]$"
      ],
      "text/plain": [
       "Matrix([\n",
       "[1],\n",
       "[0],\n",
       "[0],\n",
       "[0],\n",
       "[0],\n",
       "[0],\n",
       "[0],\n",
       "[0]])"
      ]
     },
     "execution_count": 9,
     "metadata": {},
     "output_type": "execute_result"
    }
   ],
   "source": [
    "ket_000 = np.kron(np.kron(ket_0,ket_0),ket_0)\n",
    "sp.Matrix(ket_000)"
   ]
  },
  {
   "cell_type": "code",
   "execution_count": 10,
   "id": "9d91338f-9137-4351-8872-007a70d04a0f",
   "metadata": {},
   "outputs": [
    {
     "data": {
      "text/latex": [
       "$\\displaystyle \\left[\\begin{matrix}1\\\\0\\\\0\\\\0\\\\0\\\\0\\\\0\\\\0\\end{matrix}\\right]$"
      ],
      "text/plain": [
       "Matrix([\n",
       "[1],\n",
       "[0],\n",
       "[0],\n",
       "[0],\n",
       "[0],\n",
       "[0],\n",
       "[0],\n",
       "[0]])"
      ]
     },
     "execution_count": 10,
     "metadata": {},
     "output_type": "execute_result"
    }
   ],
   "source": [
    "sp.Matrix(CCX @ ket_000)"
   ]
  },
  {
   "cell_type": "code",
   "execution_count": 11,
   "id": "57042d7d-b04e-4fcb-abbe-89102f96b4f8",
   "metadata": {},
   "outputs": [
    {
     "data": {
      "text/latex": [
       "$\\displaystyle \\left[\\begin{matrix}0\\\\0\\\\0\\\\0\\\\0\\\\0\\\\1\\\\0\\end{matrix}\\right]$"
      ],
      "text/plain": [
       "Matrix([\n",
       "[0],\n",
       "[0],\n",
       "[0],\n",
       "[0],\n",
       "[0],\n",
       "[0],\n",
       "[1],\n",
       "[0]])"
      ]
     },
     "execution_count": 11,
     "metadata": {},
     "output_type": "execute_result"
    }
   ],
   "source": [
    "ket_110 = np.kron(np.kron(ket_1,ket_1),ket_0)\n",
    "sp.Matrix(ket_110)"
   ]
  },
  {
   "cell_type": "code",
   "execution_count": 13,
   "id": "03198216-741a-4044-acda-76f8ea1a9059",
   "metadata": {},
   "outputs": [
    {
     "data": {
      "text/latex": [
       "$\\displaystyle \\left[\\begin{matrix}0\\\\0\\\\0\\\\0\\\\0\\\\0\\\\0\\\\1\\end{matrix}\\right]$"
      ],
      "text/plain": [
       "Matrix([\n",
       "[0],\n",
       "[0],\n",
       "[0],\n",
       "[0],\n",
       "[0],\n",
       "[0],\n",
       "[0],\n",
       "[1]])"
      ]
     },
     "execution_count": 13,
     "metadata": {},
     "output_type": "execute_result"
    }
   ],
   "source": [
    "sp.Matrix(CCX @ ket_110)"
   ]
  },
  {
   "cell_type": "markdown",
   "id": "eff2c09b-6585-474c-831f-e5033e6afe57",
   "metadata": {},
   "source": [
    "## Composition of Multi-Bit Vectors\n",
    "\n",
    "We can build multi-qubit operators by taking the Kronecker (tensor) product of single-qubit gates.\n",
    "\n",
    "For example, applying an X gate to the middle qubit of a 3-qubit system:\n",
    "\n",
    "$$\n",
    "Q = I \\otimes X \\otimes I\n",
    "$$\n",
    "\n",
    "This means:  \n",
    "- Apply **Identity** to the first and third qubits  \n",
    "- Apply **Pauli-X** (NOT gate) to the second qubit\n"
   ]
  },
  {
   "cell_type": "code",
   "execution_count": 4,
   "id": "c983f9ca-4888-48be-94a1-e70d5b45ee32",
   "metadata": {},
   "outputs": [
    {
     "data": {
      "text/latex": [
       "$\\displaystyle \\left[\\begin{matrix}1 & 0\\\\0 & 1\\end{matrix}\\right]$"
      ],
      "text/plain": [
       "Matrix([\n",
       "[1, 0],\n",
       "[0, 1]])"
      ]
     },
     "execution_count": 4,
     "metadata": {},
     "output_type": "execute_result"
    }
   ],
   "source": [
    "I = np.array([[1,0],\n",
    "              [0,1]])\n",
    "sp.Matrix(I)"
   ]
  },
  {
   "cell_type": "code",
   "execution_count": 5,
   "id": "dff56be4-c670-4c09-8202-801b224b811a",
   "metadata": {},
   "outputs": [
    {
     "data": {
      "text/latex": [
       "$\\displaystyle \\left[\\begin{matrix}0 & 1\\\\1 & 0\\end{matrix}\\right]$"
      ],
      "text/plain": [
       "Matrix([\n",
       "[0, 1],\n",
       "[1, 0]])"
      ]
     },
     "execution_count": 5,
     "metadata": {},
     "output_type": "execute_result"
    }
   ],
   "source": [
    "X = np.array([[0,1],\n",
    "              [1,0]])\n",
    "sp.Matrix(X)"
   ]
  },
  {
   "cell_type": "markdown",
   "id": "478a07e5-f8dc-40a6-86b0-57193bad6d66",
   "metadata": {},
   "source": [
    "Q = np.kron(np.kron(I,X),I)\n",
    "sp.Matrix(Q)"
   ]
  },
  {
   "cell_type": "code",
   "execution_count": 10,
   "id": "990b9413-1c7b-4956-b3a4-ccc1d478b6cf",
   "metadata": {},
   "outputs": [
    {
     "data": {
      "text/latex": [
       "$\\displaystyle \\left[\\begin{matrix}1\\\\0\\\\0\\\\0\\\\0\\\\0\\\\0\\\\0\\end{matrix}\\right]$"
      ],
      "text/plain": [
       "Matrix([\n",
       "[1],\n",
       "[0],\n",
       "[0],\n",
       "[0],\n",
       "[0],\n",
       "[0],\n",
       "[0],\n",
       "[0]])"
      ]
     },
     "execution_count": 10,
     "metadata": {},
     "output_type": "execute_result"
    }
   ],
   "source": [
    "ket_010 = np.kron(np.kron(ket_0,ket_1),ket_0)\n",
    "sp.Matrix(Q @ ket_010)"
   ]
  },
  {
   "cell_type": "markdown",
   "id": "eef67515-f82f-4918-a4cb-a15b0bd11e93",
   "metadata": {},
   "source": [
    "Vector corresponding to bin value 000 is obtained."
   ]
  },
  {
   "cell_type": "markdown",
   "id": "6ab5f830-f258-4a87-83f1-8e6211e208db",
   "metadata": {},
   "source": [
    "## Reversible OR "
   ]
  },
  {
   "cell_type": "code",
   "execution_count": 17,
   "id": "5f2be61b-5db4-45d1-b4ae-6b29824c23a3",
   "metadata": {},
   "outputs": [
    {
     "data": {
      "text/latex": [
       "$\\displaystyle \\left[\\begin{matrix}0 & 0 & 0 & 0 & 0 & 0 & 1 & 0\\\\0 & 0 & 0 & 0 & 0 & 0 & 0 & 1\\\\0 & 0 & 0 & 0 & 1 & 0 & 0 & 0\\\\0 & 0 & 0 & 0 & 0 & 1 & 0 & 0\\\\0 & 0 & 1 & 0 & 0 & 0 & 0 & 0\\\\0 & 0 & 0 & 1 & 0 & 0 & 0 & 0\\\\1 & 0 & 0 & 0 & 0 & 0 & 0 & 0\\\\0 & 1 & 0 & 0 & 0 & 0 & 0 & 0\\end{matrix}\\right]$"
      ],
      "text/plain": [
       "Matrix([\n",
       "[0, 0, 0, 0, 0, 0, 1, 0],\n",
       "[0, 0, 0, 0, 0, 0, 0, 1],\n",
       "[0, 0, 0, 0, 1, 0, 0, 0],\n",
       "[0, 0, 0, 0, 0, 1, 0, 0],\n",
       "[0, 0, 1, 0, 0, 0, 0, 0],\n",
       "[0, 0, 0, 1, 0, 0, 0, 0],\n",
       "[1, 0, 0, 0, 0, 0, 0, 0],\n",
       "[0, 1, 0, 0, 0, 0, 0, 0]])"
      ]
     },
     "execution_count": 17,
     "metadata": {},
     "output_type": "execute_result"
    }
   ],
   "source": [
    "Q1 = Q3 =  np.kron(np.kron(X,X),I)\n",
    "Q2 = CCX\n",
    "sp.Matrix(Q3)"
   ]
  },
  {
   "cell_type": "code",
   "execution_count": 18,
   "id": "6003a382-53d0-45a1-be6e-0c6536a2417d",
   "metadata": {},
   "outputs": [
    {
     "data": {
      "text/latex": [
       "$\\displaystyle \\left[\\begin{matrix}0 & 1 & 0 & 0 & 0 & 0 & 0 & 0\\\\1 & 0 & 0 & 0 & 0 & 0 & 0 & 0\\\\0 & 0 & 1 & 0 & 0 & 0 & 0 & 0\\\\0 & 0 & 0 & 1 & 0 & 0 & 0 & 0\\\\0 & 0 & 0 & 0 & 1 & 0 & 0 & 0\\\\0 & 0 & 0 & 0 & 0 & 1 & 0 & 0\\\\0 & 0 & 0 & 0 & 0 & 0 & 1 & 0\\\\0 & 0 & 0 & 0 & 0 & 0 & 0 & 1\\end{matrix}\\right]$"
      ],
      "text/plain": [
       "Matrix([\n",
       "[0, 1, 0, 0, 0, 0, 0, 0],\n",
       "[1, 0, 0, 0, 0, 0, 0, 0],\n",
       "[0, 0, 1, 0, 0, 0, 0, 0],\n",
       "[0, 0, 0, 1, 0, 0, 0, 0],\n",
       "[0, 0, 0, 0, 1, 0, 0, 0],\n",
       "[0, 0, 0, 0, 0, 1, 0, 0],\n",
       "[0, 0, 0, 0, 0, 0, 1, 0],\n",
       "[0, 0, 0, 0, 0, 0, 0, 1]])"
      ]
     },
     "execution_count": 18,
     "metadata": {},
     "output_type": "execute_result"
    }
   ],
   "source": [
    "Q = Q3 @ Q2 @ Q1\n",
    "sp.Matrix(Q)"
   ]
  },
  {
   "cell_type": "markdown",
   "id": "93fe240b-f90e-4976-9525-803b28347217",
   "metadata": {},
   "source": [
    "### Example 1:"
   ]
  },
  {
   "cell_type": "code",
   "execution_count": 24,
   "id": "8d6bb4a4-982e-4d92-b2ba-30a62b6eeeb8",
   "metadata": {},
   "outputs": [
    {
     "data": {
      "text/latex": [
       "$\\displaystyle \\left[\\begin{matrix}0\\\\0\\\\0\\\\1\\\\0\\\\0\\\\0\\\\0\\end{matrix}\\right]$"
      ],
      "text/plain": [
       "Matrix([\n",
       "[0],\n",
       "[0],\n",
       "[0],\n",
       "[1],\n",
       "[0],\n",
       "[0],\n",
       "[0],\n",
       "[0]])"
      ]
     },
     "execution_count": 24,
     "metadata": {},
     "output_type": "execute_result"
    }
   ],
   "source": [
    "ket_011 = np.kron(np.kron(ket_0, ket_1),ket_1)\n",
    "sp.Matrix(ket_011)"
   ]
  },
  {
   "cell_type": "markdown",
   "id": "88c284e3-a057-4e67-919b-5ae655a9698b",
   "metadata": {},
   "source": [
    "Here, ket_011 is bit 3."
   ]
  },
  {
   "cell_type": "code",
   "execution_count": 25,
   "id": "6ce1ec8d-6111-485e-a26d-bfda23cdf9c7",
   "metadata": {},
   "outputs": [
    {
     "data": {
      "text/latex": [
       "$\\displaystyle \\left[\\begin{matrix}0\\\\0\\\\0\\\\1\\\\0\\\\0\\\\0\\\\0\\end{matrix}\\right]$"
      ],
      "text/plain": [
       "Matrix([\n",
       "[0],\n",
       "[0],\n",
       "[0],\n",
       "[1],\n",
       "[0],\n",
       "[0],\n",
       "[0],\n",
       "[0]])"
      ]
     },
     "execution_count": 25,
     "metadata": {},
     "output_type": "execute_result"
    }
   ],
   "source": [
    "sp.Matrix(Q @ ket_011)"
   ]
  },
  {
   "cell_type": "markdown",
   "id": "219bb0ec-b1e7-4b0b-a2cb-85091a77a5dc",
   "metadata": {},
   "source": [
    "When OR operation is applied to ket_011, output is same (bit 3 itself)."
   ]
  },
  {
   "cell_type": "markdown",
   "id": "23b9a163-df6a-44da-a535-821a820164d3",
   "metadata": {},
   "source": [
    "### Example 2:"
   ]
  },
  {
   "cell_type": "code",
   "execution_count": 22,
   "id": "af7593ac-4aa9-4083-b366-47c64aba9019",
   "metadata": {},
   "outputs": [
    {
     "data": {
      "text/latex": [
       "$\\displaystyle \\left[\\begin{matrix}0\\\\1\\\\0\\\\0\\\\0\\\\0\\\\0\\\\0\\end{matrix}\\right]$"
      ],
      "text/plain": [
       "Matrix([\n",
       "[0],\n",
       "[1],\n",
       "[0],\n",
       "[0],\n",
       "[0],\n",
       "[0],\n",
       "[0],\n",
       "[0]])"
      ]
     },
     "execution_count": 22,
     "metadata": {},
     "output_type": "execute_result"
    }
   ],
   "source": [
    "ket_001 = np.kron(np.kron(ket_0,ket_0),ket_1)\n",
    "sp.Matrix(ket_001)"
   ]
  },
  {
   "cell_type": "markdown",
   "id": "6976d3bc-a836-4c8f-94d0-12f50d6a3e5f",
   "metadata": {},
   "source": [
    "Here, ket_001 is bit 1."
   ]
  },
  {
   "cell_type": "code",
   "execution_count": 26,
   "id": "ae554f5e-3f95-4016-96af-ba2a31d05fac",
   "metadata": {},
   "outputs": [
    {
     "data": {
      "text/latex": [
       "$\\displaystyle \\left[\\begin{matrix}1\\\\0\\\\0\\\\0\\\\0\\\\0\\\\0\\\\0\\end{matrix}\\right]$"
      ],
      "text/plain": [
       "Matrix([\n",
       "[1],\n",
       "[0],\n",
       "[0],\n",
       "[0],\n",
       "[0],\n",
       "[0],\n",
       "[0],\n",
       "[0]])"
      ]
     },
     "execution_count": 26,
     "metadata": {},
     "output_type": "execute_result"
    }
   ],
   "source": [
    "sp.Matrix(Q @ ket_001)"
   ]
  },
  {
   "cell_type": "markdown",
   "id": "ff4577fb-d0d1-449d-ab80-570730c5e308",
   "metadata": {},
   "source": [
    "When OR operation is applied to ket_001, output is 0 (we obtain ket_000)."
   ]
  }
 ],
 "metadata": {
  "kernelspec": {
   "display_name": "Python (qc)",
   "language": "python",
   "name": "qc"
  },
  "language_info": {
   "codemirror_mode": {
    "name": "ipython",
    "version": 3
   },
   "file_extension": ".py",
   "mimetype": "text/x-python",
   "name": "python",
   "nbconvert_exporter": "python",
   "pygments_lexer": "ipython3",
   "version": "3.13.5"
  }
 },
 "nbformat": 4,
 "nbformat_minor": 5
}
