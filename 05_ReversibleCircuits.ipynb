{
 "cells": [
  {
   "cell_type": "markdown",
   "id": "2e701caa-b37a-4187-b776-b08423f33aa7",
   "metadata": {},
   "source": [
    "# Reversible Circuits"
   ]
  },
  {
   "cell_type": "markdown",
   "id": "f35321d3-20d8-49e0-898c-f9c39a481834",
   "metadata": {},
   "source": [
    "### XOR GATE: \n",
    "> NOT Gate aka X Gate (in QC).\n",
    "\n",
    "> To make XOR Gate reversible, we can add redundancy, ie, adding an additional output that matches one of the inputs.\n",
    "\n",
    ">Reversible XOR Gate is implemented using controlled X Gate (CNOT Gate).\n",
    "\n",
    ">It has two inputs a and b, in which X Gate is applied to *bit b* and condition it on the value of *bit a*.\n",
    "\n",
    ">Here, if a = 1, we apply X Gate to b.\n",
    "> But, if a = 0, then we don't and b is passed unchanged."
   ]
  },
  {
   "cell_type": "markdown",
   "id": "2bcaae0f-b8d8-4b7b-b72b-3d13b25b9eb0",
   "metadata": {},
   "source": [
    "### AND GATE:\n",
    "\n",
    "> Reversible AND Gate is implemented using Controlled Controlled NOT Gate aka Controlled Controlled X Gate (CCX Gate) aka Toffoli gate (CCNOT Gate).\n"
   ]
  },
  {
   "cell_type": "code",
   "execution_count": 1,
   "id": "628c345f-16f2-4791-8f3c-ceac188901bf",
   "metadata": {},
   "outputs": [],
   "source": [
    "import numpy as np\n",
    "import sympy as sp"
   ]
  },
  {
   "cell_type": "markdown",
   "id": "6e00fc29-c7ce-452a-a4a4-9cb29a02bd96",
   "metadata": {},
   "source": [
    "### CCX GATE"
   ]
  },
  {
   "cell_type": "code",
   "execution_count": 4,
   "id": "9d81136f-9d05-4903-a092-a69ee83772a8",
   "metadata": {},
   "outputs": [
    {
     "data": {
      "text/latex": [
       "$\\displaystyle \\left[\\begin{matrix}1 & 0 & 0 & 0 & 0 & 0 & 0 & 0\\\\0 & 1 & 0 & 0 & 0 & 0 & 0 & 0\\\\0 & 0 & 1 & 0 & 0 & 0 & 0 & 0\\\\0 & 0 & 0 & 1 & 0 & 0 & 0 & 0\\\\0 & 0 & 0 & 0 & 1 & 0 & 0 & 0\\\\0 & 0 & 0 & 0 & 0 & 1 & 0 & 0\\\\0 & 0 & 0 & 0 & 0 & 0 & 0 & 1\\\\0 & 0 & 0 & 0 & 0 & 0 & 1 & 0\\end{matrix}\\right]$"
      ],
      "text/plain": [
       "Matrix([\n",
       "[1, 0, 0, 0, 0, 0, 0, 0],\n",
       "[0, 1, 0, 0, 0, 0, 0, 0],\n",
       "[0, 0, 1, 0, 0, 0, 0, 0],\n",
       "[0, 0, 0, 1, 0, 0, 0, 0],\n",
       "[0, 0, 0, 0, 1, 0, 0, 0],\n",
       "[0, 0, 0, 0, 0, 1, 0, 0],\n",
       "[0, 0, 0, 0, 0, 0, 0, 1],\n",
       "[0, 0, 0, 0, 0, 0, 1, 0]])"
      ]
     },
     "execution_count": 4,
     "metadata": {},
     "output_type": "execute_result"
    }
   ],
   "source": [
    "CCX = np.array([[1,0,0,0,0,0,0,0],\n",
    "                [0,1,0,0,0,0,0,0],\n",
    "                [0,0,1,0,0,0,0,0],\n",
    "                [0,0,0,1,0,0,0,0],\n",
    "                [0,0,0,0,1,0,0,0],\n",
    "                [0,0,0,0,0,1,0,0],\n",
    "                [0,0,0,0,0,0,0,1],\n",
    "                [0,0,0,0,0,0,1,0]])\n",
    "sp.Matrix(CCX)"
   ]
  },
  {
   "cell_type": "markdown",
   "id": "a2e05916-99fb-4dee-9e43-77dc1cc65c9f",
   "metadata": {},
   "source": [
    "### Ket Representations"
   ]
  },
  {
   "cell_type": "code",
   "execution_count": 7,
   "id": "1ee286f2-ef9b-4891-9962-e235a18051fd",
   "metadata": {},
   "outputs": [],
   "source": [
    "ket_0 = np.array([[1],\n",
    "                  [0]])\n",
    "ket_1 = np.array([[0],\n",
    "                  [1]])"
   ]
  },
  {
   "cell_type": "code",
   "execution_count": 9,
   "id": "d7ec536e-7836-4b9f-97ab-04c20caab557",
   "metadata": {},
   "outputs": [
    {
     "data": {
      "text/latex": [
       "$\\displaystyle \\left[\\begin{matrix}1\\\\0\\\\0\\\\0\\\\0\\\\0\\\\0\\\\0\\end{matrix}\\right]$"
      ],
      "text/plain": [
       "Matrix([\n",
       "[1],\n",
       "[0],\n",
       "[0],\n",
       "[0],\n",
       "[0],\n",
       "[0],\n",
       "[0],\n",
       "[0]])"
      ]
     },
     "execution_count": 9,
     "metadata": {},
     "output_type": "execute_result"
    }
   ],
   "source": [
    "ket_000 = np.kron(np.kron(ket_0,ket_0),ket_0)\n",
    "sp.Matrix(ket_000)"
   ]
  },
  {
   "cell_type": "code",
   "execution_count": 10,
   "id": "9d91338f-9137-4351-8872-007a70d04a0f",
   "metadata": {},
   "outputs": [
    {
     "data": {
      "text/latex": [
       "$\\displaystyle \\left[\\begin{matrix}1\\\\0\\\\0\\\\0\\\\0\\\\0\\\\0\\\\0\\end{matrix}\\right]$"
      ],
      "text/plain": [
       "Matrix([\n",
       "[1],\n",
       "[0],\n",
       "[0],\n",
       "[0],\n",
       "[0],\n",
       "[0],\n",
       "[0],\n",
       "[0]])"
      ]
     },
     "execution_count": 10,
     "metadata": {},
     "output_type": "execute_result"
    }
   ],
   "source": [
    "sp.Matrix(CCX @ ket_000)"
   ]
  },
  {
   "cell_type": "code",
   "execution_count": 11,
   "id": "57042d7d-b04e-4fcb-abbe-89102f96b4f8",
   "metadata": {},
   "outputs": [
    {
     "data": {
      "text/latex": [
       "$\\displaystyle \\left[\\begin{matrix}0\\\\0\\\\0\\\\0\\\\0\\\\0\\\\1\\\\0\\end{matrix}\\right]$"
      ],
      "text/plain": [
       "Matrix([\n",
       "[0],\n",
       "[0],\n",
       "[0],\n",
       "[0],\n",
       "[0],\n",
       "[0],\n",
       "[1],\n",
       "[0]])"
      ]
     },
     "execution_count": 11,
     "metadata": {},
     "output_type": "execute_result"
    }
   ],
   "source": [
    "ket_110 = np.kron(np.kron(ket_1,ket_1),ket_0)\n",
    "sp.Matrix(ket_110)"
   ]
  },
  {
   "cell_type": "code",
   "execution_count": 13,
   "id": "03198216-741a-4044-acda-76f8ea1a9059",
   "metadata": {},
   "outputs": [
    {
     "data": {
      "text/latex": [
       "$\\displaystyle \\left[\\begin{matrix}0\\\\0\\\\0\\\\0\\\\0\\\\0\\\\0\\\\1\\end{matrix}\\right]$"
      ],
      "text/plain": [
       "Matrix([\n",
       "[0],\n",
       "[0],\n",
       "[0],\n",
       "[0],\n",
       "[0],\n",
       "[0],\n",
       "[0],\n",
       "[1]])"
      ]
     },
     "execution_count": 13,
     "metadata": {},
     "output_type": "execute_result"
    }
   ],
   "source": [
    "sp.Matrix(CCX @ ket_110)"
   ]
  },
  {
   "cell_type": "code",
   "execution_count": null,
   "id": "c983f9ca-4888-48be-94a1-e70d5b45ee32",
   "metadata": {},
   "outputs": [],
   "source": []
  }
 ],
 "metadata": {
  "kernelspec": {
   "display_name": "Python (qc)",
   "language": "python",
   "name": "qc"
  },
  "language_info": {
   "codemirror_mode": {
    "name": "ipython",
    "version": 3
   },
   "file_extension": ".py",
   "mimetype": "text/x-python",
   "name": "python",
   "nbconvert_exporter": "python",
   "pygments_lexer": "ipython3",
   "version": "3.13.5"
  }
 },
 "nbformat": 4,
 "nbformat_minor": 5
}
