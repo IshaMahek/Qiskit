{
 "cells": [
  {
   "cell_type": "markdown",
   "id": "bd8f4d2a-3120-43d7-a763-7d8cd3ada50e",
   "metadata": {},
   "source": [
    "# Probabilistic Bits (p - bits)"
   ]
  },
  {
   "cell_type": "code",
   "execution_count": 1,
   "id": "b7333f7b-15af-4d24-b957-49aa3fe77b68",
   "metadata": {},
   "outputs": [],
   "source": [
    "import numpy as np\n",
    "import sympy as sp"
   ]
  },
  {
   "cell_type": "code",
   "execution_count": 2,
   "id": "20234615-fed5-4d44-9d18-270498ea7af7",
   "metadata": {},
   "outputs": [
    {
     "data": {
      "text/latex": [
       "$\\displaystyle \\left[\\begin{matrix}0.25\\\\0.75\\end{matrix}\\right]$"
      ],
      "text/plain": [
       "Matrix([\n",
       "[0.25],\n",
       "[0.75]])"
      ]
     },
     "execution_count": 2,
     "metadata": {},
     "output_type": "execute_result"
    }
   ],
   "source": [
    "p1 = np.array([[1/4],\n",
    "              [3/4]])\n",
    "sp.Matrix(p1)"
   ]
  },
  {
   "cell_type": "code",
   "execution_count": 60,
   "id": "afe2f670-51db-4a4d-aebf-da8ea66932ba",
   "metadata": {},
   "outputs": [],
   "source": [
    "n_samples = 100000\n",
    "samples = np.random.choice([0, 1], size=n_samples, p=p1.reshape(-1))\n",
    "# p=p1.reshape(-1) = [0.25 0.75]\n",
    "#print(samples)"
   ]
  },
  {
   "cell_type": "code",
   "execution_count": 61,
   "id": "2a5184bd-d49c-4dc1-a6b9-6f0504be0bc9",
   "metadata": {},
   "outputs": [
    {
     "name": "stdout",
     "output_type": "stream",
     "text": [
      "24901\n"
     ]
    }
   ],
   "source": [
    "zeros = np.count_nonzero(samples == 0)\n",
    "print(zeros)"
   ]
  },
  {
   "cell_type": "code",
   "execution_count": 62,
   "id": "3a870e31-4f59-49fa-8166-ad1f2fb5b2bf",
   "metadata": {},
   "outputs": [
    {
     "name": "stdout",
     "output_type": "stream",
     "text": [
      "75099\n"
     ]
    }
   ],
   "source": [
    "ones = np.count_nonzero(samples == 1)\n",
    "print(ones)"
   ]
  },
  {
   "cell_type": "code",
   "execution_count": 63,
   "id": "ee1ae030-43d2-464a-95be-cddf2bed8f91",
   "metadata": {},
   "outputs": [
    {
     "name": "stdout",
     "output_type": "stream",
     "text": [
      "0.24901 0.75099\n"
     ]
    }
   ],
   "source": [
    "p_zero = zeros/n_samples\n",
    "p_one = ones/n_samples\n",
    "print(p_zero, p_one)"
   ]
  },
  {
   "cell_type": "markdown",
   "id": "c8fdb497-5e1b-4924-b7c9-eac36048d29b",
   "metadata": {},
   "source": [
    "Higher the range of samples, closer will be their probabilities to the values."
   ]
  },
  {
   "cell_type": "code",
   "execution_count": 64,
   "id": "30806fa7-c86c-4064-81e9-b7fe7e3a3f4e",
   "metadata": {},
   "outputs": [
    {
     "data": {
      "text/latex": [
       "$\\displaystyle \\left[\\begin{matrix}0.5\\\\0.5\\end{matrix}\\right]$"
      ],
      "text/plain": [
       "Matrix([\n",
       "[0.5],\n",
       "[0.5]])"
      ]
     },
     "execution_count": 64,
     "metadata": {},
     "output_type": "execute_result"
    }
   ],
   "source": [
    "p2 = np.array([[1/2],\n",
    "               [1/2]])\n",
    "sp.Matrix(p2)"
   ]
  },
  {
   "cell_type": "code",
   "execution_count": 65,
   "id": "8ae29d2b-28b9-49a6-9766-0a6055913068",
   "metadata": {},
   "outputs": [
    {
     "data": {
      "text/latex": [
       "$\\displaystyle \\left[\\begin{matrix}0.125\\\\0.375\\\\0.125\\\\0.375\\end{matrix}\\right]$"
      ],
      "text/plain": [
       "Matrix([\n",
       "[0.125],\n",
       "[0.375],\n",
       "[0.125],\n",
       "[0.375]])"
      ]
     },
     "execution_count": 65,
     "metadata": {},
     "output_type": "execute_result"
    }
   ],
   "source": [
    "p = np.kron(p2,p1)\n",
    "sp.Matrix(p)"
   ]
  },
  {
   "cell_type": "code",
   "execution_count": 78,
   "id": "5f66ea3e-2af3-4b3f-8be9-837a30fa72ed",
   "metadata": {},
   "outputs": [
    {
     "name": "stdout",
     "output_type": "stream",
     "text": [
      "['01' '01' '10' ... '11' '00' '10']\n"
     ]
    }
   ],
   "source": [
    "n_samples = 100000\n",
    "# samples = np.random.choice([0, 1, 2, 3], size=n_samples, p=p.reshape(-1))\n",
    "samples = np.random.choice(['00', '01', '10', '11'], size=n_samples, p=p.reshape(-1))\n",
    "print(samples)"
   ]
  },
  {
   "cell_type": "code",
   "execution_count": 79,
   "id": "f22b3a72-9781-418c-acd0-c7539b93f6a6",
   "metadata": {},
   "outputs": [
    {
     "name": "stdout",
     "output_type": "stream",
     "text": [
      "0.12528 0.37334 0.12515 0.37623\n"
     ]
    }
   ],
   "source": [
    "# s_0 = np.count_nonzero(samples == 0)/n_samples\n",
    "# s_1 = np.count_nonzero(samples == 1)/n_samples\n",
    "# s_2 = np.count_nonzero(samples == 2)/n_samples\n",
    "# s_3 = np.count_nonzero(samples == 3)/n_samples\n",
    "s_0 = np.count_nonzero(samples == '00')/n_samples\n",
    "s_1 = np.count_nonzero(samples == '01')/n_samples\n",
    "s_2 = np.count_nonzero(samples == '10')/n_samples\n",
    "s_3 = np.count_nonzero(samples == '11')/n_samples\n",
    "print(s_0, s_1, s_2, s_3)"
   ]
  },
  {
   "cell_type": "markdown",
   "id": "72046b5b-190b-4978-8ec9-d2b92a545083",
   "metadata": {},
   "source": [
    "Probabilistic Gates are not reversible. "
   ]
  }
 ],
 "metadata": {
  "kernelspec": {
   "display_name": "Python (qc)",
   "language": "python",
   "name": "qc"
  },
  "language_info": {
   "codemirror_mode": {
    "name": "ipython",
    "version": 3
   },
   "file_extension": ".py",
   "mimetype": "text/x-python",
   "name": "python",
   "nbconvert_exporter": "python",
   "pygments_lexer": "ipython3",
   "version": "3.13.5"
  }
 },
 "nbformat": 4,
 "nbformat_minor": 5
}
