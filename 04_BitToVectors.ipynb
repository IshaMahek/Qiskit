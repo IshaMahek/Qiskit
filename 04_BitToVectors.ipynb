{
 "cells": [
  {
   "cell_type": "markdown",
   "id": "fab4631a-3d08-4739-84f6-165eb9a90969",
   "metadata": {},
   "source": [
    "# Bits to Vectors"
   ]
  },
  {
   "cell_type": "markdown",
   "id": "723f7666-3b52-47b6-8da9-212975292a1a",
   "metadata": {},
   "source": [
    "$$\n",
    "|b\\rangle = \n",
    "\\begin{bmatrix}\n",
    "\\beta_0 \\\\\n",
    "\\beta_1\n",
    "\\end{bmatrix}, \\quad \n",
    "\\beta_i \\in \\{0, 1\\}, \\quad \\text{and} \\quad \\|b\\| = \\sqrt{\\beta_0^2 + \\beta_1^2} = 1\n",
    "$$"
   ]
  },
  {
   "cell_type": "markdown",
   "id": "5e93110d-b05c-4083-a3c7-bf80f6db069c",
   "metadata": {},
   "source": [
    "Dot product is used to measure how similar the vectors are to each other.\n",
    "\n",
    "To get the length of a vector, take the dot product of the vector with itself."
   ]
  },
  {
   "cell_type": "markdown",
   "id": "98ec00cf-e8c5-4a63-835d-d32bb0d7695b",
   "metadata": {},
   "source": [
    "## Bra and Ket\n",
    ">Ket: \n",
    "∣\n",
    "𝜓\n",
    "⟩\n",
    "\n",
    "∣ψ⟩ — column vector, used to describe quantum states\n",
    "\n",
    ">Bra:\n",
    "⟨\n",
    "𝜓\n",
    "∣\n",
    "\n",
    "⟨ψ∣ — row vector (complex conjugate transpose of ket), used in inner products"
   ]
  },
  {
   "cell_type": "code",
   "execution_count": 4,
   "id": "0df7d180-e181-4d08-b358-ef2eb5307d61",
   "metadata": {},
   "outputs": [],
   "source": [
    "import numpy as np \n",
    "import sympy as sp"
   ]
  },
  {
   "cell_type": "markdown",
   "id": "5245af6e-4294-42ec-8f3c-46eea0de804e",
   "metadata": {},
   "source": [
    "### SymPy:\n",
    ">To represent vectors symbolically and turn them into matrix objects."
   ]
  },
  {
   "cell_type": "code",
   "execution_count": 2,
   "id": "20ab21a1-024f-46d6-a9d5-e967a4bb8bb4",
   "metadata": {},
   "outputs": [
    {
     "name": "stdout",
     "output_type": "stream",
     "text": [
      "[[1]\n",
      " [0]]\n"
     ]
    }
   ],
   "source": [
    "#ket_0 is a column vector\n",
    "ket_0 = np.array([[1],[0]])\n",
    "print(ket_0)"
   ]
  },
  {
   "cell_type": "code",
   "execution_count": 4,
   "id": "3837dca1-1d76-4fe3-8965-3fd2e509c535",
   "metadata": {},
   "outputs": [
    {
     "data": {
      "text/latex": [
       "$\\displaystyle \\left[\\begin{matrix}1\\\\0\\end{matrix}\\right]$"
      ],
      "text/plain": [
       "Matrix([\n",
       "[1],\n",
       "[0]])"
      ]
     },
     "execution_count": 4,
     "metadata": {},
     "output_type": "execute_result"
    }
   ],
   "source": [
    "sp.Matrix(ket_0)"
   ]
  },
  {
   "cell_type": "code",
   "execution_count": 6,
   "id": "e41dcc1a-331c-4497-80e4-8da6dfca538e",
   "metadata": {},
   "outputs": [
    {
     "name": "stdout",
     "output_type": "stream",
     "text": [
      "[[0]\n",
      " [1]]\n"
     ]
    }
   ],
   "source": [
    "#ket_1 is a column vector\n",
    "ket_1 = np.array([[0], [1]])\n",
    "print(ket_1)"
   ]
  },
  {
   "cell_type": "code",
   "execution_count": 7,
   "id": "2cbff18a-f155-48f1-8026-9bfeaf0c1f71",
   "metadata": {},
   "outputs": [
    {
     "data": {
      "text/latex": [
       "$\\displaystyle \\left[\\begin{matrix}0\\\\1\\end{matrix}\\right]$"
      ],
      "text/plain": [
       "Matrix([\n",
       "[0],\n",
       "[1]])"
      ]
     },
     "execution_count": 7,
     "metadata": {},
     "output_type": "execute_result"
    }
   ],
   "source": [
    "sp.Matrix(ket_1)"
   ]
  },
  {
   "cell_type": "markdown",
   "id": "c3627f6d-c44e-462c-b9fd-aa4a3510eac4",
   "metadata": {},
   "source": [
    "### Validating a Quantum State Vector\n",
    "\n",
    "A quantum state vector is valid if its norm squared equals 1:\n",
    "\n",
    "$$\n",
    "\\|b\\|^2 = \\beta_0^2 + \\beta_1^2 = 1\n",
    "$$\n",
    "\n",
    "Validation rule:\n",
    "- If value = 1 → valid\n",
    "- Else → invalid\n"
   ]
  },
  {
   "cell_type": "code",
   "execution_count": 12,
   "id": "512ec31e-bc20-4dfb-9d80-c51e440083e6",
   "metadata": {},
   "outputs": [
    {
     "name": "stdout",
     "output_type": "stream",
     "text": [
      "1.0\n"
     ]
    }
   ],
   "source": [
    "len_ket_0 = np.sqrt(np.sum(ket_0**2))\n",
    "print(len_ket_0)\n",
    "#valid vector"
   ]
  },
  {
   "cell_type": "code",
   "execution_count": 13,
   "id": "f7b42523-0146-4329-bcaa-b2e3b8f82f9c",
   "metadata": {},
   "outputs": [
    {
     "name": "stdout",
     "output_type": "stream",
     "text": [
      "1.0\n"
     ]
    }
   ],
   "source": [
    "len_ket_1 = np.sqrt(np.sum(ket_1**2))\n",
    "print(len_ket_1)\n",
    "#valid vector"
   ]
  },
  {
   "cell_type": "code",
   "execution_count": 19,
   "id": "3f50ffb8-ad05-48a9-9878-f66417d5f36a",
   "metadata": {},
   "outputs": [
    {
     "name": "stdout",
     "output_type": "stream",
     "text": [
      "[[0]\n",
      " [0]]\n"
     ]
    },
    {
     "data": {
      "text/latex": [
       "$\\displaystyle \\left[\\begin{matrix}0\\\\0\\end{matrix}\\right]$"
      ],
      "text/plain": [
       "Matrix([\n",
       "[0],\n",
       "[0]])"
      ]
     },
     "execution_count": 19,
     "metadata": {},
     "output_type": "execute_result"
    }
   ],
   "source": [
    "zeros = np.array([[0],[0]])\n",
    "print(zeros)\n",
    "sp.Matrix(zeros)"
   ]
  },
  {
   "cell_type": "code",
   "execution_count": 20,
   "id": "f74b8c12-adf6-438a-b6ef-6d12124351d5",
   "metadata": {},
   "outputs": [
    {
     "name": "stdout",
     "output_type": "stream",
     "text": [
      "0.0\n"
     ]
    }
   ],
   "source": [
    "len_zeros = np.sqrt(np.sum(zeros**2))\n",
    "print(len_zeros)\n",
    "#invalid vector"
   ]
  },
  {
   "cell_type": "code",
   "execution_count": 21,
   "id": "fa7c4e4a-03dd-402e-a60f-cfada8203bd8",
   "metadata": {},
   "outputs": [
    {
     "name": "stdout",
     "output_type": "stream",
     "text": [
      "[[1]\n",
      " [1]]\n"
     ]
    },
    {
     "data": {
      "text/latex": [
       "$\\displaystyle \\left[\\begin{matrix}1\\\\1\\end{matrix}\\right]$"
      ],
      "text/plain": [
       "Matrix([\n",
       "[1],\n",
       "[1]])"
      ]
     },
     "execution_count": 21,
     "metadata": {},
     "output_type": "execute_result"
    }
   ],
   "source": [
    "ones = np.array([[1], [1]])\n",
    "print(ones)\n",
    "sp.Matrix(ones)"
   ]
  },
  {
   "cell_type": "code",
   "execution_count": 23,
   "id": "33664c49-16cf-4c4c-973b-7610b0d4524a",
   "metadata": {},
   "outputs": [
    {
     "name": "stdout",
     "output_type": "stream",
     "text": [
      "1.4142135623730951\n"
     ]
    }
   ],
   "source": [
    "len_ones = np.sqrt(np.sum(ones**2))\n",
    "print(len_ones)\n",
    "#invalid vector"
   ]
  },
  {
   "cell_type": "markdown",
   "id": "690e6670-7ba3-4ddc-beb6-a1aabad9493d",
   "metadata": {},
   "source": [
    "### Length of Vector using Dot Product\n",
    "> *Row Vector* of first parameter and\n",
    "> *Column Vector* of second parameter is taken."
   ]
  },
  {
   "cell_type": "code",
   "execution_count": 26,
   "id": "69bd61e8-a0a8-4e59-bf38-7350761273af",
   "metadata": {},
   "outputs": [
    {
     "name": "stdout",
     "output_type": "stream",
     "text": [
      "1.0\n"
     ]
    }
   ],
   "source": [
    "dket_0 = np.sqrt(np.vdot(ket_0,ket_0))\n",
    "print(dket_0)"
   ]
  },
  {
   "cell_type": "code",
   "execution_count": 27,
   "id": "4337f5ba-064e-4875-9251-b45e72513f7d",
   "metadata": {},
   "outputs": [
    {
     "name": "stdout",
     "output_type": "stream",
     "text": [
      "1.0\n"
     ]
    }
   ],
   "source": [
    "dket_1 = np.sqrt(np.vdot(ket_1,ket_1))\n",
    "print(dket_1)"
   ]
  },
  {
   "cell_type": "code",
   "execution_count": 29,
   "id": "26d6b55f-47f1-4089-bb46-bf0227adb9ad",
   "metadata": {},
   "outputs": [
    {
     "name": "stdout",
     "output_type": "stream",
     "text": [
      "0.0\n"
     ]
    }
   ],
   "source": [
    "dzero = np.sqrt(np.vdot(zeros, zeros))\n",
    "print(dzero)"
   ]
  },
  {
   "cell_type": "code",
   "execution_count": 30,
   "id": "50431180-cc58-40e3-a26b-30c460ca651f",
   "metadata": {},
   "outputs": [
    {
     "name": "stdout",
     "output_type": "stream",
     "text": [
      "1.4142135623730951\n"
     ]
    }
   ],
   "source": [
    "done = np.sqrt(np.vdot(ones, ones))\n",
    "print(done)"
   ]
  },
  {
   "cell_type": "markdown",
   "id": "280847a3-1d3c-4091-bdf8-706647fe802b",
   "metadata": {},
   "source": [
    "### Orthogonality of Vectors\n",
    "\n",
    "When two vectors are **orthogonal**, their dot product is zero:\n",
    "\n",
    "$$\n",
    "\\vec{a} \\cdot \\vec{b} = 0\n",
    "$$\n",
    "\n",
    "This means the vectors are at 90° to each other (i.e., linearly independent in direction).\n"
   ]
  },
  {
   "cell_type": "code",
   "execution_count": 32,
   "id": "b3b1810b-bda8-4099-8d96-f01efb49f6b9",
   "metadata": {},
   "outputs": [
    {
     "name": "stdout",
     "output_type": "stream",
     "text": [
      "0\n"
     ]
    }
   ],
   "source": [
    "dket_01 = np.vdot(ket_0,ket_1)\n",
    "print(dket_01)"
   ]
  },
  {
   "cell_type": "markdown",
   "id": "0a619a3b-8a78-495f-a068-61af1922e501",
   "metadata": {},
   "source": [
    "### Kronecker Product\n",
    "\n",
    "The Kronecker product is used to perform operations between multi-bit (multi-qubit) vectors or matrices.\n",
    "\n",
    "It allows us to construct composite systems from smaller ones, such as combining single-qubit states into multi-qubit states.\n",
    "\n",
    "Example (for vectors):\n",
    "\n",
    "$$\n",
    "|a\\rangle \\otimes |b\\rangle = \n",
    "\\begin{bmatrix} a_0 \\\\ a_1 \\end{bmatrix}\n",
    "\\otimes\n",
    "\\begin{bmatrix} b_0 \\\\ b_1 \\end{bmatrix}\n",
    "=\n",
    "\\begin{bmatrix}\n",
    "a_0 b_0 \\\\\n",
    "a_0 b_1 \\\\\n",
    "a_1 b_0 \\\\\n",
    "a_1 b_1\n",
    "\\end{bmatrix}\n",
    "$$\n",
    "\n",
    "This is essential in quantum computing for building multi-qubit state vectors and operators.\n"
   ]
  },
  {
   "cell_type": "markdown",
   "id": "5d1468c5-6899-41ea-bc24-beb7da36fb7d",
   "metadata": {},
   "source": [
    "Let  \n",
    "$$\n",
    "b = 10 \\quad \\text{(decimal: 2)}\n",
    "$$\n",
    "\n",
    "We represent the basis state:\n",
    "$$\n",
    "|b\\rangle = |1\\rangle \\otimes |0\\rangle\n",
    "$$\n",
    "\n",
    "In vector notation:\n",
    "$$\n",
    "|b\\rangle = \n",
    "\\begin{bmatrix} 0 \\\\ 1 \\end{bmatrix} \n",
    "\\otimes \n",
    "\\begin{bmatrix} 1 \\\\ 0 \\end{bmatrix}\n",
    "= \n",
    "\\begin{bmatrix} \n",
    "0 \\cdot \\begin{bmatrix} 1 \\\\ 0 \\end{bmatrix} \\\\\n",
    "1 \\cdot \\begin{bmatrix} 1 \\\\ 0 \\end{bmatrix} \n",
    "\\end{bmatrix}\n",
    "=\n",
    "\\begin{bmatrix} \n",
    "0 \\\\ \n",
    "0 \\\\\n",
    "1 \\\\\n",
    "0 \n",
    "\\end{bmatrix}\n",
    "$$\n"
   ]
  },
  {
   "cell_type": "code",
   "execution_count": 36,
   "id": "08d242b2-6f2a-4ae0-afa1-e05157bbe279",
   "metadata": {},
   "outputs": [
    {
     "data": {
      "text/latex": [
       "$\\displaystyle \\left[\\begin{matrix}0\\\\0\\\\1\\\\0\\end{matrix}\\right]$"
      ],
      "text/plain": [
       "Matrix([\n",
       "[0],\n",
       "[0],\n",
       "[1],\n",
       "[0]])"
      ]
     },
     "execution_count": 36,
     "metadata": {},
     "output_type": "execute_result"
    }
   ],
   "source": [
    "ket_10 = np.kron(ket_1, ket_0)\n",
    "sp.Matrix(ket_10)"
   ]
  },
  {
   "cell_type": "markdown",
   "id": "a05fdad9-58c9-4af7-bcd2-354dd13ff2d9",
   "metadata": {},
   "source": [
    "# TL;DR:\n",
    "- **Single Bit**\n",
    "\n",
    "$$\n",
    "|b\\rangle = \n",
    "\\begin{bmatrix}\n",
    "\\beta_0 \\\\\n",
    "\\beta_1\n",
    "\\end{bmatrix},\n",
    "\\quad \\beta_i \\in \\{0,1\\},\n",
    "\\quad \\sqrt{\\beta_0^2 + \\beta_1^2} = 1\n",
    "$$\n",
    "\n",
    "- **Multi-Bits**\n",
    "\n",
    "$$\n",
    "|b\\rangle = \\bigotimes_{i=1}^{n} |b_{n-i}\\rangle \n",
    "= |b_{n-1}\\rangle \\otimes \\cdots \\otimes |b_i\\rangle \\otimes \\cdots \\otimes |b_0\\rangle\n",
    "$$\n",
    "This forms the tensor product of individual qubit states to build the overall quantum state.\n",
    "- **General Quantum State over \\( N \\) Qubits**\n",
    "\n",
    "$$\n",
    "|b\\rangle =\n",
    "\\begin{bmatrix}\n",
    "\\beta_0 \\\\\n",
    "\\beta_1 \\\\\n",
    "\\vdots \\\\\n",
    "\\beta_{2^N - 1}\n",
    "\\end{bmatrix},\n",
    "\\quad \\beta_i \\in \\mathbb{C},\n",
    "\\quad \\sum_{i=0}^{2^N - 1} |\\beta_i|^2 = 1\n",
    "$$\n",
    "\n",
    "\n"
   ]
  },
  {
   "cell_type": "code",
   "execution_count": 40,
   "id": "615686a6-d853-4f99-a8d4-9da92c5f45e9",
   "metadata": {},
   "outputs": [
    {
     "data": {
      "text/latex": [
       "$\\displaystyle \\left[\\begin{matrix}0\\\\0\\\\0\\\\0\\\\0\\\\0\\\\1\\\\0\\end{matrix}\\right]$"
      ],
      "text/plain": [
       "Matrix([\n",
       "[0],\n",
       "[0],\n",
       "[0],\n",
       "[0],\n",
       "[0],\n",
       "[0],\n",
       "[1],\n",
       "[0]])"
      ]
     },
     "execution_count": 40,
     "metadata": {},
     "output_type": "execute_result"
    }
   ],
   "source": [
    "ket_110 = np.kron(np.kron(ket_1, ket_1), ket_0) #for three bit vector\n",
    "sp.Matrix(ket_110)"
   ]
  }
 ],
 "metadata": {
  "kernelspec": {
   "display_name": "Python (qc)",
   "language": "python",
   "name": "qc"
  },
  "language_info": {
   "codemirror_mode": {
    "name": "ipython",
    "version": 3
   },
   "file_extension": ".py",
   "mimetype": "text/x-python",
   "name": "python",
   "nbconvert_exporter": "python",
   "pygments_lexer": "ipython3",
   "version": "3.13.5"
  }
 },
 "nbformat": 4,
 "nbformat_minor": 5
}
