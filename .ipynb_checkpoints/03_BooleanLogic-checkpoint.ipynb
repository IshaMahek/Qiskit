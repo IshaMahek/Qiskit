{
 "cells": [
  {
   "cell_type": "markdown",
   "id": "c338a023-c56a-441f-82f1-62fdc97ea279",
   "metadata": {},
   "source": [
    "# Boolean Logic"
   ]
  },
  {
   "cell_type": "markdown",
   "id": "ef44c1c7-2604-4e01-a31e-4aec85c4c51c",
   "metadata": {},
   "source": [
    "Negation (NOT) \n",
    "\n",
    "Conjuction (OR) \n",
    "\n",
    "Disjunction (AND)"
   ]
  },
  {
   "cell_type": "markdown",
   "id": "19b1c023-eeef-4237-8723-c7b277d2c220",
   "metadata": {},
   "source": [
    "### Truth Table"
   ]
  },
  {
   "cell_type": "code",
   "execution_count": 12,
   "id": "af3d3c8f-3c72-45c2-b8cc-58ab2e3932ed",
   "metadata": {},
   "outputs": [
    {
     "name": "stdout",
     "output_type": "stream",
     "text": [
      "0\n",
      "0\n",
      "0\n",
      "1\n"
     ]
    }
   ],
   "source": [
    "# AND operation\n",
    "print(0&0)\n",
    "print(0&1)\n",
    "print(1&0)\n",
    "print(1&1)"
   ]
  },
  {
   "cell_type": "code",
   "execution_count": 13,
   "id": "4ba00f2b-cd6f-4b7c-b410-74884a830369",
   "metadata": {},
   "outputs": [
    {
     "name": "stdout",
     "output_type": "stream",
     "text": [
      "0\n",
      "1\n",
      "1\n",
      "1\n"
     ]
    }
   ],
   "source": [
    "# OR operation\n",
    "print(0|0)\n",
    "print(0|1)\n",
    "print(1|0)\n",
    "print(1|1)"
   ]
  },
  {
   "cell_type": "code",
   "execution_count": 15,
   "id": "9176b0fe-92c2-4194-b73a-1d804ae1a36c",
   "metadata": {},
   "outputs": [
    {
     "name": "stdout",
     "output_type": "stream",
     "text": [
      "0\n",
      "1\n",
      "1\n",
      "0\n"
     ]
    }
   ],
   "source": [
    "# XOR operation                 a ^ b = ( ~a & b ) | ( a & ~b )\n",
    "print(0^0)\n",
    "print(0^1)\n",
    "print(1^0)\n",
    "print(1^1)"
   ]
  },
  {
   "cell_type": "markdown",
   "id": "9f279343-2201-4158-8667-7248f3316537",
   "metadata": {},
   "source": [
    "### Operations on Binary Numbers"
   ]
  },
  {
   "cell_type": "code",
   "execution_count": 20,
   "id": "22b57512-48aa-4830-bc38-ee69753764b7",
   "metadata": {},
   "outputs": [
    {
     "name": "stdout",
     "output_type": "stream",
     "text": [
      "0b10\n",
      "2\n"
     ]
    }
   ],
   "source": [
    "b1 = bin(0b0110 & 0b1010)\n",
    "print(b1)\n",
    "d1 = int(b1,2)\n",
    "print(d1)"
   ]
  },
  {
   "cell_type": "code",
   "execution_count": 21,
   "id": "61e761e3-7d4c-4d63-9d61-143eafa7d0fb",
   "metadata": {},
   "outputs": [
    {
     "name": "stdout",
     "output_type": "stream",
     "text": [
      "0b1110\n",
      "14\n"
     ]
    }
   ],
   "source": [
    "b2 = bin(0b0110 | 0b1010)\n",
    "print(b2)\n",
    "d2 = int(b2,2)\n",
    "print(d2)"
   ]
  },
  {
   "cell_type": "code",
   "execution_count": 24,
   "id": "4ac7aa3e-02a6-4a1f-8b47-f5b80db1ddea",
   "metadata": {},
   "outputs": [
    {
     "name": "stdout",
     "output_type": "stream",
     "text": [
      "0b1100\n",
      "12\n"
     ]
    }
   ],
   "source": [
    "b3 = bin(0b0110 ^ 0b1010)\n",
    "print(b3)\n",
    "d3 = int(b3,2)\n",
    "print(d3)"
   ]
  },
  {
   "cell_type": "code",
   "execution_count": 26,
   "id": "d9766b7e-9321-4acb-8613-b6b37de800cb",
   "metadata": {},
   "outputs": [
    {
     "name": "stdout",
     "output_type": "stream",
     "text": [
      "0b1001\n",
      "9\n"
     ]
    }
   ],
   "source": [
    "b4 = bin(0b0110 ^ 0b1111) # acts as negation at bitwise level '1111'\n",
    "print(b4)\n",
    "d4 = int(b4,2)\n",
    "print(d4)"
   ]
  },
  {
   "cell_type": "markdown",
   "id": "0cf8ef10-2278-432b-8473-176b847bd5d5",
   "metadata": {},
   "source": [
    "### NOTE:\n",
    "' & ' , ' | ' and ' ^ ' bitwise operations on binary numbers."
   ]
  },
  {
   "cell_type": "code",
   "execution_count": null,
   "id": "9e0d658c-a0c2-4fd6-889f-6e9d8ccee4d4",
   "metadata": {},
   "outputs": [],
   "source": []
  }
 ],
 "metadata": {
  "kernelspec": {
   "display_name": "Python (qc)",
   "language": "python",
   "name": "qc"
  },
  "language_info": {
   "codemirror_mode": {
    "name": "ipython",
    "version": 3
   },
   "file_extension": ".py",
   "mimetype": "text/x-python",
   "name": "python",
   "nbconvert_exporter": "python",
   "pygments_lexer": "ipython3",
   "version": "3.13.5"
  }
 },
 "nbformat": 4,
 "nbformat_minor": 5
}
