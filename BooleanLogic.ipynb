{
 "cells": [
  {
   "cell_type": "code",
   "execution_count": null,
   "id": "6c50db4d-7781-4154-bf56-ea74323fc40b",
   "metadata": {},
   "outputs": [],
   "source": []
  }
 ],
 "metadata": {
  "kernelspec": {
   "display_name": "",
   "name": ""
  },
  "language_info": {
   "name": ""
  }
 },
 "nbformat": 4,
 "nbformat_minor": 5
}
